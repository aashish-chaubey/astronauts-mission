{
 "cells": [
  {
   "cell_type": "code",
   "execution_count": 1,
   "metadata": {},
   "outputs": [],
   "source": [
    "import re\n",
    "import pandas as pd\n",
    "import numpy as np\n",
    "pd.set_option('max_columns', None)\n",
    "\n",
    "import matplotlib.pyplot as plt \n",
    "import matplotlib.ticker as ticker\n",
    "from matplotlib import cm\n",
    "import seaborn as sns\n",
    "sns.set_style('whitegrid')\n",
    "\n",
    "import warnings\n",
    "warnings.filterwarnings(\"ignore\")"
   ]
  },
  {
   "cell_type": "code",
   "execution_count": 2,
   "metadata": {},
   "outputs": [
    {
     "data": {
      "text/html": [
       "<div>\n",
       "<style scoped>\n",
       "    .dataframe tbody tr th:only-of-type {\n",
       "        vertical-align: middle;\n",
       "    }\n",
       "\n",
       "    .dataframe tbody tr th {\n",
       "        vertical-align: top;\n",
       "    }\n",
       "\n",
       "    .dataframe thead th {\n",
       "        text-align: right;\n",
       "    }\n",
       "</style>\n",
       "<table border=\"1\" class=\"dataframe\">\n",
       "  <thead>\n",
       "    <tr style=\"text-align: right;\">\n",
       "      <th></th>\n",
       "      <th>Company Name</th>\n",
       "      <th>Status Rocket</th>\n",
       "      <th>Cost</th>\n",
       "      <th>Status Mission</th>\n",
       "      <th>Country</th>\n",
       "      <th>Vehicle</th>\n",
       "      <th>Mission</th>\n",
       "      <th>year</th>\n",
       "    </tr>\n",
       "  </thead>\n",
       "  <tbody>\n",
       "    <tr>\n",
       "      <th>0</th>\n",
       "      <td>SpaceX</td>\n",
       "      <td>Active</td>\n",
       "      <td>50.00</td>\n",
       "      <td>Success</td>\n",
       "      <td>USA</td>\n",
       "      <td>Falcon 9 Block 5</td>\n",
       "      <td>Starlink V1 L9 &amp; BlackSky</td>\n",
       "      <td>2020</td>\n",
       "    </tr>\n",
       "    <tr>\n",
       "      <th>1</th>\n",
       "      <td>CASC</td>\n",
       "      <td>Active</td>\n",
       "      <td>29.75</td>\n",
       "      <td>Success</td>\n",
       "      <td>China</td>\n",
       "      <td>Long March 2D</td>\n",
       "      <td>Gaofen-9 04 &amp; Q-SAT</td>\n",
       "      <td>2020</td>\n",
       "    </tr>\n",
       "    <tr>\n",
       "      <th>2</th>\n",
       "      <td>SpaceX</td>\n",
       "      <td>Active</td>\n",
       "      <td>NaN</td>\n",
       "      <td>Success</td>\n",
       "      <td>USA</td>\n",
       "      <td>Starship Prototype</td>\n",
       "      <td>150 Meter Hop</td>\n",
       "      <td>2020</td>\n",
       "    </tr>\n",
       "    <tr>\n",
       "      <th>3</th>\n",
       "      <td>Roscosmos</td>\n",
       "      <td>Active</td>\n",
       "      <td>65.00</td>\n",
       "      <td>Success</td>\n",
       "      <td>Kazakhstan</td>\n",
       "      <td>Proton-M/Briz-M</td>\n",
       "      <td>Ekspress-80 &amp; Ekspress-103</td>\n",
       "      <td>2020</td>\n",
       "    </tr>\n",
       "    <tr>\n",
       "      <th>4</th>\n",
       "      <td>ULA</td>\n",
       "      <td>Active</td>\n",
       "      <td>145.00</td>\n",
       "      <td>Success</td>\n",
       "      <td>USA</td>\n",
       "      <td>Atlas V 541</td>\n",
       "      <td>Perseverance</td>\n",
       "      <td>2020</td>\n",
       "    </tr>\n",
       "  </tbody>\n",
       "</table>\n",
       "</div>"
      ],
      "text/plain": [
       "  Company Name Status Rocket    Cost Status Mission     Country  \\\n",
       "0       SpaceX        Active   50.00        Success         USA   \n",
       "1         CASC        Active   29.75        Success       China   \n",
       "2       SpaceX        Active     NaN        Success         USA   \n",
       "3    Roscosmos        Active   65.00        Success  Kazakhstan   \n",
       "4          ULA        Active  145.00        Success         USA   \n",
       "\n",
       "              Vehicle                     Mission  year  \n",
       "0    Falcon 9 Block 5   Starlink V1 L9 & BlackSky  2020  \n",
       "1       Long March 2D         Gaofen-9 04 & Q-SAT  2020  \n",
       "2  Starship Prototype               150 Meter Hop  2020  \n",
       "3     Proton-M/Briz-M  Ekspress-80 & Ekspress-103  2020  \n",
       "4         Atlas V 541                Perseverance  2020  "
      ]
     },
     "execution_count": 2,
     "metadata": {},
     "output_type": "execute_result"
    }
   ],
   "source": [
    "data = \"../../data/cleaned_data.xlsx\"\n",
    "\n",
    "mission_df = pd.read_excel(data, sheet_name=\"missions\")\n",
    "mission_df['year'] = mission_df['Date'].apply(lambda x: re.search(r\"\\d{4}\", x).group(0))\n",
    "mission_df = mission_df.drop(['Date', 'Location'], axis=\"columns\")\n",
    "mission_df.head()"
   ]
  },
  {
   "cell_type": "code",
   "execution_count": 3,
   "metadata": {},
   "outputs": [
    {
     "data": {
      "text/html": [
       "<div>\n",
       "<style scoped>\n",
       "    .dataframe tbody tr th:only-of-type {\n",
       "        vertical-align: middle;\n",
       "    }\n",
       "\n",
       "    .dataframe tbody tr th {\n",
       "        vertical-align: top;\n",
       "    }\n",
       "\n",
       "    .dataframe thead th {\n",
       "        text-align: right;\n",
       "    }\n",
       "</style>\n",
       "<table border=\"1\" class=\"dataframe\">\n",
       "  <thead>\n",
       "    <tr style=\"text-align: right;\">\n",
       "      <th></th>\n",
       "      <th>Company Name</th>\n",
       "      <th>Status Rocket</th>\n",
       "      <th>Cost</th>\n",
       "      <th>Status Mission</th>\n",
       "      <th>Country</th>\n",
       "      <th>Vehicle</th>\n",
       "      <th>year</th>\n",
       "    </tr>\n",
       "  </thead>\n",
       "  <tbody>\n",
       "    <tr>\n",
       "      <th>0</th>\n",
       "      <td>SpaceX</td>\n",
       "      <td>Active</td>\n",
       "      <td>50.00</td>\n",
       "      <td>Success</td>\n",
       "      <td>USA</td>\n",
       "      <td>Falcon 9 Block 5</td>\n",
       "      <td>2020</td>\n",
       "    </tr>\n",
       "    <tr>\n",
       "      <th>1</th>\n",
       "      <td>CASC</td>\n",
       "      <td>Active</td>\n",
       "      <td>29.75</td>\n",
       "      <td>Success</td>\n",
       "      <td>China</td>\n",
       "      <td>Long March 2D</td>\n",
       "      <td>2020</td>\n",
       "    </tr>\n",
       "    <tr>\n",
       "      <th>2</th>\n",
       "      <td>SpaceX</td>\n",
       "      <td>Active</td>\n",
       "      <td>NaN</td>\n",
       "      <td>Success</td>\n",
       "      <td>USA</td>\n",
       "      <td>Starship Prototype</td>\n",
       "      <td>2020</td>\n",
       "    </tr>\n",
       "    <tr>\n",
       "      <th>3</th>\n",
       "      <td>Roscosmos</td>\n",
       "      <td>Active</td>\n",
       "      <td>65.00</td>\n",
       "      <td>Success</td>\n",
       "      <td>Kazakhstan</td>\n",
       "      <td>Proton-M/Briz-M</td>\n",
       "      <td>2020</td>\n",
       "    </tr>\n",
       "    <tr>\n",
       "      <th>4</th>\n",
       "      <td>ULA</td>\n",
       "      <td>Active</td>\n",
       "      <td>145.00</td>\n",
       "      <td>Success</td>\n",
       "      <td>USA</td>\n",
       "      <td>Atlas V 541</td>\n",
       "      <td>2020</td>\n",
       "    </tr>\n",
       "  </tbody>\n",
       "</table>\n",
       "</div>"
      ],
      "text/plain": [
       "  Company Name Status Rocket    Cost Status Mission     Country  \\\n",
       "0       SpaceX        Active   50.00        Success         USA   \n",
       "1         CASC        Active   29.75        Success       China   \n",
       "2       SpaceX        Active     NaN        Success         USA   \n",
       "3    Roscosmos        Active   65.00        Success  Kazakhstan   \n",
       "4          ULA        Active  145.00        Success         USA   \n",
       "\n",
       "              Vehicle  year  \n",
       "0    Falcon 9 Block 5  2020  \n",
       "1       Long March 2D  2020  \n",
       "2  Starship Prototype  2020  \n",
       "3     Proton-M/Briz-M  2020  \n",
       "4         Atlas V 541  2020  "
      ]
     },
     "execution_count": 3,
     "metadata": {},
     "output_type": "execute_result"
    }
   ],
   "source": [
    "df = mission_df[['Company Name', 'Status Rocket', 'Cost', 'Status Mission', 'Country', 'Vehicle', 'year']]\n",
    "df.head()"
   ]
  },
  {
   "cell_type": "markdown",
   "metadata": {},
   "source": [
    "### Seperate Datasets which either have null values or don't"
   ]
  },
  {
   "cell_type": "code",
   "execution_count": 4,
   "metadata": {},
   "outputs": [],
   "source": [
    "df_nonnull_cost = df.loc[~df['Cost'].isna()].reset_index(drop=True)\n",
    "df_null_cost = df.loc[df['Cost'].isna()].reset_index(drop=True)"
   ]
  },
  {
   "cell_type": "code",
   "execution_count": 5,
   "metadata": {},
   "outputs": [],
   "source": [
    "cols=['Country', 'Company Name', 'Status Rocket', 'Status Mission', 'Vehicle']\n",
    "from category_encoders import TargetEncoder\n",
    "encoder=TargetEncoder(cols=cols) \n",
    "cat_encoded = encoder.fit_transform(df_nonnull_cost[cols],df_nonnull_cost['Cost'])"
   ]
  },
  {
   "cell_type": "code",
   "execution_count": 6,
   "metadata": {
    "scrolled": true
   },
   "outputs": [
    {
     "data": {
      "text/html": [
       "<div>\n",
       "<style scoped>\n",
       "    .dataframe tbody tr th:only-of-type {\n",
       "        vertical-align: middle;\n",
       "    }\n",
       "\n",
       "    .dataframe tbody tr th {\n",
       "        vertical-align: top;\n",
       "    }\n",
       "\n",
       "    .dataframe thead th {\n",
       "        text-align: right;\n",
       "    }\n",
       "</style>\n",
       "<table border=\"1\" class=\"dataframe\">\n",
       "  <thead>\n",
       "    <tr style=\"text-align: right;\">\n",
       "      <th></th>\n",
       "      <th>Cost</th>\n",
       "      <th>year</th>\n",
       "      <th>Country</th>\n",
       "      <th>Company Name</th>\n",
       "      <th>Status Rocket</th>\n",
       "      <th>Status Mission</th>\n",
       "      <th>Vehicle</th>\n",
       "    </tr>\n",
       "  </thead>\n",
       "  <tbody>\n",
       "    <tr>\n",
       "      <th>0</th>\n",
       "      <td>50.00</td>\n",
       "      <td>2020</td>\n",
       "      <td>216.000657</td>\n",
       "      <td>54.989899</td>\n",
       "      <td>81.479625</td>\n",
       "      <td>157.551143</td>\n",
       "      <td>50.000000</td>\n",
       "    </tr>\n",
       "    <tr>\n",
       "      <th>1</th>\n",
       "      <td>29.75</td>\n",
       "      <td>2020</td>\n",
       "      <td>40.273797</td>\n",
       "      <td>40.128228</td>\n",
       "      <td>81.479625</td>\n",
       "      <td>157.551143</td>\n",
       "      <td>29.750000</td>\n",
       "    </tr>\n",
       "    <tr>\n",
       "      <th>2</th>\n",
       "      <td>65.00</td>\n",
       "      <td>2020</td>\n",
       "      <td>264.141304</td>\n",
       "      <td>51.630435</td>\n",
       "      <td>81.479625</td>\n",
       "      <td>157.551143</td>\n",
       "      <td>65.000546</td>\n",
       "    </tr>\n",
       "    <tr>\n",
       "      <th>3</th>\n",
       "      <td>145.00</td>\n",
       "      <td>2020</td>\n",
       "      <td>216.000657</td>\n",
       "      <td>151.000000</td>\n",
       "      <td>81.479625</td>\n",
       "      <td>157.551143</td>\n",
       "      <td>145.021740</td>\n",
       "    </tr>\n",
       "    <tr>\n",
       "      <th>4</th>\n",
       "      <td>64.68</td>\n",
       "      <td>2020</td>\n",
       "      <td>40.273797</td>\n",
       "      <td>40.128228</td>\n",
       "      <td>81.479625</td>\n",
       "      <td>157.551143</td>\n",
       "      <td>64.680000</td>\n",
       "    </tr>\n",
       "  </tbody>\n",
       "</table>\n",
       "</div>"
      ],
      "text/plain": [
       "     Cost  year     Country  Company Name  Status Rocket  Status Mission  \\\n",
       "0   50.00  2020  216.000657     54.989899      81.479625      157.551143   \n",
       "1   29.75  2020   40.273797     40.128228      81.479625      157.551143   \n",
       "2   65.00  2020  264.141304     51.630435      81.479625      157.551143   \n",
       "3  145.00  2020  216.000657    151.000000      81.479625      157.551143   \n",
       "4   64.68  2020   40.273797     40.128228      81.479625      157.551143   \n",
       "\n",
       "      Vehicle  \n",
       "0   50.000000  \n",
       "1   29.750000  \n",
       "2   65.000546  \n",
       "3  145.021740  \n",
       "4   64.680000  "
      ]
     },
     "execution_count": 6,
     "metadata": {},
     "output_type": "execute_result"
    }
   ],
   "source": [
    "cols=['Country', 'Company Name', 'Status Rocket', 'Status Mission', 'Vehicle']\n",
    "df_nonnull_cost = df_nonnull_cost.drop(labels=cols, axis=\"columns\")\n",
    "df_nonnull_cost = pd.concat([df_nonnull_cost, cat_encoded], axis=\"columns\")\n",
    "df_nonnull_cost.head()"
   ]
  },
  {
   "cell_type": "code",
   "execution_count": 7,
   "metadata": {},
   "outputs": [
    {
     "data": {
      "text/html": [
       "<div>\n",
       "<style scoped>\n",
       "    .dataframe tbody tr th:only-of-type {\n",
       "        vertical-align: middle;\n",
       "    }\n",
       "\n",
       "    .dataframe tbody tr th {\n",
       "        vertical-align: top;\n",
       "    }\n",
       "\n",
       "    .dataframe thead th {\n",
       "        text-align: right;\n",
       "    }\n",
       "</style>\n",
       "<table border=\"1\" class=\"dataframe\">\n",
       "  <thead>\n",
       "    <tr style=\"text-align: right;\">\n",
       "      <th></th>\n",
       "      <th>Cost</th>\n",
       "      <th>Country</th>\n",
       "      <th>Company Name</th>\n",
       "      <th>Status Rocket</th>\n",
       "      <th>Status Mission</th>\n",
       "      <th>Vehicle</th>\n",
       "    </tr>\n",
       "  </thead>\n",
       "  <tbody>\n",
       "    <tr>\n",
       "      <th>Cost</th>\n",
       "      <td>1.000000</td>\n",
       "      <td>0.287901</td>\n",
       "      <td>0.943372</td>\n",
       "      <td>0.312299</td>\n",
       "      <td>0.059597</td>\n",
       "      <td>0.641270</td>\n",
       "    </tr>\n",
       "    <tr>\n",
       "      <th>Country</th>\n",
       "      <td>0.287901</td>\n",
       "      <td>1.000000</td>\n",
       "      <td>0.345323</td>\n",
       "      <td>0.315368</td>\n",
       "      <td>0.007055</td>\n",
       "      <td>0.374317</td>\n",
       "    </tr>\n",
       "    <tr>\n",
       "      <th>Company Name</th>\n",
       "      <td>0.943372</td>\n",
       "      <td>0.345323</td>\n",
       "      <td>1.000000</td>\n",
       "      <td>0.370891</td>\n",
       "      <td>0.057343</td>\n",
       "      <td>0.630315</td>\n",
       "    </tr>\n",
       "    <tr>\n",
       "      <th>Status Rocket</th>\n",
       "      <td>0.312299</td>\n",
       "      <td>0.315368</td>\n",
       "      <td>0.370891</td>\n",
       "      <td>1.000000</td>\n",
       "      <td>-0.039267</td>\n",
       "      <td>0.414510</td>\n",
       "    </tr>\n",
       "    <tr>\n",
       "      <th>Status Mission</th>\n",
       "      <td>0.059597</td>\n",
       "      <td>0.007055</td>\n",
       "      <td>0.057343</td>\n",
       "      <td>-0.039267</td>\n",
       "      <td>1.000000</td>\n",
       "      <td>0.059899</td>\n",
       "    </tr>\n",
       "    <tr>\n",
       "      <th>Vehicle</th>\n",
       "      <td>0.641270</td>\n",
       "      <td>0.374317</td>\n",
       "      <td>0.630315</td>\n",
       "      <td>0.414510</td>\n",
       "      <td>0.059899</td>\n",
       "      <td>1.000000</td>\n",
       "    </tr>\n",
       "  </tbody>\n",
       "</table>\n",
       "</div>"
      ],
      "text/plain": [
       "                    Cost   Country  Company Name  Status Rocket  \\\n",
       "Cost            1.000000  0.287901      0.943372       0.312299   \n",
       "Country         0.287901  1.000000      0.345323       0.315368   \n",
       "Company Name    0.943372  0.345323      1.000000       0.370891   \n",
       "Status Rocket   0.312299  0.315368      0.370891       1.000000   \n",
       "Status Mission  0.059597  0.007055      0.057343      -0.039267   \n",
       "Vehicle         0.641270  0.374317      0.630315       0.414510   \n",
       "\n",
       "                Status Mission   Vehicle  \n",
       "Cost                  0.059597  0.641270  \n",
       "Country               0.007055  0.374317  \n",
       "Company Name          0.057343  0.630315  \n",
       "Status Rocket        -0.039267  0.414510  \n",
       "Status Mission        1.000000  0.059899  \n",
       "Vehicle               0.059899  1.000000  "
      ]
     },
     "execution_count": 7,
     "metadata": {},
     "output_type": "execute_result"
    }
   ],
   "source": [
    "df_nonnull_cost.corr()"
   ]
  },
  {
   "cell_type": "code",
   "execution_count": 8,
   "metadata": {},
   "outputs": [],
   "source": [
    "target = \"Cost\"\n",
    "cols = [x for x in df_nonnull_cost.columns.values if x != target]\n",
    "X = df_nonnull_cost[cols]\n",
    "y = df_nonnull_cost[target]"
   ]
  },
  {
   "cell_type": "code",
   "execution_count": 9,
   "metadata": {},
   "outputs": [
    {
     "data": {
      "text/plain": [
       "((964, 6), (964,))"
      ]
     },
     "execution_count": 9,
     "metadata": {},
     "output_type": "execute_result"
    }
   ],
   "source": [
    "X.shape, y.shape"
   ]
  },
  {
   "cell_type": "code",
   "execution_count": 10,
   "metadata": {},
   "outputs": [
    {
     "data": {
      "text/plain": [
       "count     964.000000\n",
       "mean      153.792199\n",
       "std       288.450732\n",
       "min         5.300000\n",
       "25%        40.000000\n",
       "50%        62.000000\n",
       "75%       164.000000\n",
       "max      5000.000000\n",
       "Name: Cost, dtype: float64"
      ]
     },
     "execution_count": 10,
     "metadata": {},
     "output_type": "execute_result"
    }
   ],
   "source": [
    "y.describe()"
   ]
  },
  {
   "cell_type": "code",
   "execution_count": 17,
   "metadata": {},
   "outputs": [],
   "source": [
    "from sklearn.model_selection import train_test_split\n",
    "X_train, X_test, y_train, y_test = train_test_split(\n",
    "    X, y, test_size=0.3, random_state=42)"
   ]
  },
  {
   "cell_type": "code",
   "execution_count": 20,
   "metadata": {},
   "outputs": [
    {
     "data": {
      "text/plain": [
       "0.9851564672058424"
      ]
     },
     "execution_count": 20,
     "metadata": {},
     "output_type": "execute_result"
    }
   ],
   "source": [
    "from sklearn.ensemble import AdaBoostRegressor, RandomForestRegressor\n",
    "rf = RandomForestRegressor(n_estimators = 1000, random_state = 42)\n",
    "rf_reg = rf.fit(X_train, y_train)\n",
    "y_pred = rf.predict(X_test)\n",
    "rf_reg.score(X_test, y_test)"
   ]
  },
  {
   "cell_type": "code",
   "execution_count": 21,
   "metadata": {},
   "outputs": [
    {
     "data": {
      "text/plain": [
       "1.6058273793103894"
      ]
     },
     "execution_count": 21,
     "metadata": {},
     "output_type": "execute_result"
    }
   ],
   "source": [
    "from sklearn.metrics import r2_score, mean_absolute_error\n",
    "# r2_score(y_test, y_pred)\n",
    "mean_absolute_error(y_test, y_pred)"
   ]
  },
  {
   "cell_type": "code",
   "execution_count": 22,
   "metadata": {},
   "outputs": [
    {
     "data": {
      "text/html": [
       "<div>\n",
       "<style scoped>\n",
       "    .dataframe tbody tr th:only-of-type {\n",
       "        vertical-align: middle;\n",
       "    }\n",
       "\n",
       "    .dataframe tbody tr th {\n",
       "        vertical-align: top;\n",
       "    }\n",
       "\n",
       "    .dataframe thead th {\n",
       "        text-align: right;\n",
       "    }\n",
       "</style>\n",
       "<table border=\"1\" class=\"dataframe\">\n",
       "  <thead>\n",
       "    <tr style=\"text-align: right;\">\n",
       "      <th></th>\n",
       "      <th>X_test</th>\n",
       "      <th>y_test</th>\n",
       "      <th>y_pred</th>\n",
       "      <th>error</th>\n",
       "    </tr>\n",
       "  </thead>\n",
       "  <tbody>\n",
       "    <tr>\n",
       "      <th>0</th>\n",
       "      <td>76.822559</td>\n",
       "      <td>64.68</td>\n",
       "      <td>64.6800</td>\n",
       "      <td>2.557954e-13</td>\n",
       "    </tr>\n",
       "    <tr>\n",
       "      <th>1</th>\n",
       "      <td>320.278786</td>\n",
       "      <td>450.00</td>\n",
       "      <td>450.0000</td>\n",
       "      <td>0.000000e+00</td>\n",
       "    </tr>\n",
       "    <tr>\n",
       "      <th>2</th>\n",
       "      <td>151.619678</td>\n",
       "      <td>59.00</td>\n",
       "      <td>59.0000</td>\n",
       "      <td>0.000000e+00</td>\n",
       "    </tr>\n",
       "    <tr>\n",
       "      <th>3</th>\n",
       "      <td>320.278786</td>\n",
       "      <td>450.00</td>\n",
       "      <td>450.0000</td>\n",
       "      <td>0.000000e+00</td>\n",
       "    </tr>\n",
       "    <tr>\n",
       "      <th>4</th>\n",
       "      <td>122.777211</td>\n",
       "      <td>7.00</td>\n",
       "      <td>6.9525</td>\n",
       "      <td>4.750000e-02</td>\n",
       "    </tr>\n",
       "  </tbody>\n",
       "</table>\n",
       "</div>"
      ],
      "text/plain": [
       "       X_test  y_test    y_pred         error\n",
       "0   76.822559   64.68   64.6800  2.557954e-13\n",
       "1  320.278786  450.00  450.0000  0.000000e+00\n",
       "2  151.619678   59.00   59.0000  0.000000e+00\n",
       "3  320.278786  450.00  450.0000  0.000000e+00\n",
       "4  122.777211    7.00    6.9525  4.750000e-02"
      ]
     },
     "execution_count": 22,
     "metadata": {},
     "output_type": "execute_result"
    }
   ],
   "source": [
    "error_df = pd.concat([\n",
    "    pd.Series(X_test.mean(axis=1).values, name=\"X_test\"),\n",
    "    pd.Series(y_test.values, name=\"y_test\"),\n",
    "    pd.Series(y_pred, name=\"y_pred\")\n",
    "], axis=1)\n",
    "error_df['error'] = abs(error_df['y_pred'] - error_df['y_test'])\n",
    "error_df.head()"
   ]
  },
  {
   "cell_type": "code",
   "execution_count": 28,
   "metadata": {
    "scrolled": true
   },
   "outputs": [
    {
     "data": {
      "image/png": "[encoded data removed]",
      "text/plain": [
       "<Figure size 432x288 with 1 Axes>"
      ]
     },
     "metadata": {
      "needs_background": "light"
     },
     "output_type": "display_data"
    }
   ],
   "source": [
    "sns.scatterplot(x=y_test, y=y_pred, marker=\"x\", alpha=0.7).set(title=\"Actual vs Predicted Cost\", xlabel=\"Actual Cost\", ylabel=\"Predicted Cost\")\n",
    "plt.show()"
   ]
  },
  {
   "cell_type": "code",
   "execution_count": 367,
   "metadata": {},
   "outputs": [
    {
     "data": {
      "text/html": [
       "<div>\n",
       "<style scoped>\n",
       "    .dataframe tbody tr th:only-of-type {\n",
       "        vertical-align: middle;\n",
       "    }\n",
       "\n",
       "    .dataframe tbody tr th {\n",
       "        vertical-align: top;\n",
       "    }\n",
       "\n",
       "    .dataframe thead th {\n",
       "        text-align: right;\n",
       "    }\n",
       "</style>\n",
       "<table border=\"1\" class=\"dataframe\">\n",
       "  <thead>\n",
       "    <tr style=\"text-align: right;\">\n",
       "      <th></th>\n",
       "      <th>y_test</th>\n",
       "      <th>y_pred</th>\n",
       "    </tr>\n",
       "  </thead>\n",
       "  <tbody>\n",
       "    <tr>\n",
       "      <th>count</th>\n",
       "      <td>241.000000</td>\n",
       "      <td>241.000000</td>\n",
       "    </tr>\n",
       "    <tr>\n",
       "      <th>mean</th>\n",
       "      <td>149.335104</td>\n",
       "      <td>149.412924</td>\n",
       "    </tr>\n",
       "    <tr>\n",
       "      <th>std</th>\n",
       "      <td>174.946159</td>\n",
       "      <td>174.932132</td>\n",
       "    </tr>\n",
       "    <tr>\n",
       "      <th>min</th>\n",
       "      <td>5.300000</td>\n",
       "      <td>5.300000</td>\n",
       "    </tr>\n",
       "    <tr>\n",
       "      <th>25%</th>\n",
       "      <td>40.000000</td>\n",
       "      <td>40.018000</td>\n",
       "    </tr>\n",
       "    <tr>\n",
       "      <th>50%</th>\n",
       "      <td>64.680000</td>\n",
       "      <td>64.680000</td>\n",
       "    </tr>\n",
       "    <tr>\n",
       "      <th>75%</th>\n",
       "      <td>200.000000</td>\n",
       "      <td>200.000000</td>\n",
       "    </tr>\n",
       "    <tr>\n",
       "      <th>max</th>\n",
       "      <td>1160.000000</td>\n",
       "      <td>1160.000000</td>\n",
       "    </tr>\n",
       "  </tbody>\n",
       "</table>\n",
       "</div>"
      ],
      "text/plain": [
       "            y_test       y_pred\n",
       "count   241.000000   241.000000\n",
       "mean    149.335104   149.412924\n",
       "std     174.946159   174.932132\n",
       "min       5.300000     5.300000\n",
       "25%      40.000000    40.018000\n",
       "50%      64.680000    64.680000\n",
       "75%     200.000000   200.000000\n",
       "max    1160.000000  1160.000000"
      ]
     },
     "execution_count": 367,
     "metadata": {},
     "output_type": "execute_result"
    }
   ],
   "source": [
    "error_df[['y_test', 'y_pred']].describe()"
   ]
  },
  {
   "cell_type": "code",
   "execution_count": 368,
   "metadata": {},
   "outputs": [
    {
     "name": "stdout",
     "output_type": "stream",
     "text": [
      "Accuracy: 98.88 %.\n"
     ]
    }
   ],
   "source": [
    "mape = 100 * (error_df['error'] / error_df['y_test'])\n",
    "accuracy = 100 - np.mean(mape)\n",
    "print('Accuracy:', round(accuracy, 2), '%.')"
   ]
  },
  {
   "cell_type": "code",
   "execution_count": null,
   "metadata": {},
   "outputs": [],
   "source": []
  }
 ],
 "metadata": {
  "kernelspec": {
   "display_name": "Python 3",
   "language": "python",
   "name": "python3"
  },
  "language_info": {
   "codemirror_mode": {
    "name": "ipython",
    "version": 3
   },
   "file_extension": ".py",
   "mimetype": "text/x-python",
   "name": "python",
   "nbconvert_exporter": "python",
   "pygments_lexer": "ipython3",
   "version": "3.7.3"
  }
 },
 "nbformat": 4,
 "nbformat_minor": 2
}
