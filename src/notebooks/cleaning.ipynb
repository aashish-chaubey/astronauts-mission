{
 "cells": [
  {
   "cell_type": "code",
   "execution_count": 1,
   "metadata": {},
   "outputs": [],
   "source": [
    "!source ../../env/bin/activate"
   ]
  },
  {
   "cell_type": "code",
   "execution_count": 2,
   "metadata": {},
   "outputs": [],
   "source": [
    "import numpy as np\n",
    "import pandas as pd\n",
    "pd.set_option('max_columns', None)\n",
    "\n",
    "import seaborn as sns\n",
    "import matplotlib.pyplot as plt\n",
    "\n",
    "import warnings\n",
    "warnings.filterwarnings(\"ignore\")"
   ]
  },
  {
   "cell_type": "code",
   "execution_count": 3,
   "metadata": {},
   "outputs": [],
   "source": [
    "mission = \"../../data/missions.csv\"\n",
    "mission_df = pd.read_csv(mission, index_col='ID').drop(columns=['Unnamed: 0'])\n",
    "\n",
    "astronauts = \"../../data/astronauts.csv\"\n",
    "astronauts_df = pd.read_csv(astronauts).drop(columns=['Unnamed: 0', 'id', 'original_name'])"
   ]
  },
  {
   "cell_type": "code",
   "execution_count": 4,
   "metadata": {},
   "outputs": [],
   "source": [
    "astronauts_df['occupation'] = astronauts_df['occupation'].str.lower()\n",
    "astronauts_df.loc[astronauts_df['occupation'] == 'space tourist', 'occupation'] = 'other (space tourist)'"
   ]
  },
  {
   "cell_type": "code",
   "execution_count": 5,
   "metadata": {
    "scrolled": true
   },
   "outputs": [],
   "source": [
    "missing_shuttles = astronauts_df.loc[astronauts_df['ascend_shuttle'].isna()].copy()\n",
    "missing_shuttles.loc[:, ['ascend_shuttle', 'descend_shuttle']] = missing_shuttles['in_orbit'].item()\n",
    "astronauts_df.loc[astronauts_df['ascend_shuttle'].isna()] = missing_shuttles"
   ]
  },
  {
   "cell_type": "code",
   "execution_count": 6,
   "metadata": {},
   "outputs": [],
   "source": [
    "missing_mission_titles = astronauts_df.loc[astronauts_df['mission_title'].isna()].copy()\n",
    "missing_mission_titles.loc[:, 'mission_title'] = 60\n",
    "astronauts_df.loc[astronauts_df['mission_title'].isna()] = missing_mission_titles"
   ]
  },
  {
   "cell_type": "code",
   "execution_count": 7,
   "metadata": {},
   "outputs": [],
   "source": [
    "missing_selection = astronauts_df.loc[astronauts_df['selection'].isna()].copy()\n",
    "missing_selection.loc[:, 'selection'] = 'MirCorp'\n",
    "astronauts_df.loc[astronauts_df['selection'].isna()] = missing_selection"
   ]
  },
  {
   "cell_type": "code",
   "execution_count": 8,
   "metadata": {},
   "outputs": [],
   "source": [
    "mission_df['Cost'] = mission_df['Cost'].str.replace(',', '')\n",
    "mission_df['Cost'] = pd.to_numeric(mission_df['Cost'])"
   ]
  },
  {
   "cell_type": "code",
   "execution_count": 9,
   "metadata": {},
   "outputs": [],
   "source": [
    "mission_df.loc[mission_df['Company Name'] == \"Arm??e de l'Air\", ['Company Name']] = \"Arme de l'Air\""
   ]
  },
  {
   "cell_type": "code",
   "execution_count": 10,
   "metadata": {},
   "outputs": [],
   "source": [
    "mission_df['Country'] = mission_df['Location'].str.extract(r'^.*?([^\\t,]*)$')\n",
    "mission_df['Country'] = mission_df['Country'].str.strip()"
   ]
  },
  {
   "cell_type": "code",
   "execution_count": 11,
   "metadata": {},
   "outputs": [],
   "source": [
    "mission_df[['Vehicle', 'Mission']] = mission_df['Detail'].str.split('|', expand=True)"
   ]
  },
  {
   "cell_type": "code",
   "execution_count": 12,
   "metadata": {},
   "outputs": [],
   "source": [
    "mission_df['Status Rocket'] = mission_df['Status Rocket'].replace({'StatusActive':'Active', 'StatusRetired':'Retired'})"
   ]
  },
  {
   "cell_type": "code",
   "execution_count": 13,
   "metadata": {},
   "outputs": [],
   "source": [
    "mission_df = mission_df.drop('Detail', axis=1)"
   ]
  },
  {
   "cell_type": "code",
   "execution_count": 14,
   "metadata": {},
   "outputs": [],
   "source": [
    "with pd.ExcelWriter('../../data/cleaned_data.xlsx') as writer:  \n",
    "    astronauts_df.to_excel(writer, sheet_name='astronauts', index=False)\n",
    "    mission_df.to_excel(writer, sheet_name='missions', index=False)"
   ]
  }
 ],
 "metadata": {
  "kernelspec": {
   "display_name": "Python 3",
   "language": "python",
   "name": "python3"
  },
  "language_info": {
   "codemirror_mode": {
    "name": "ipython",
    "version": 3
   },
   "file_extension": ".py",
   "mimetype": "text/x-python",
   "name": "python",
   "nbconvert_exporter": "python",
   "pygments_lexer": "ipython3",
   "version": "3.7.3"
  }
 },
 "nbformat": 4,
 "nbformat_minor": 2
}
